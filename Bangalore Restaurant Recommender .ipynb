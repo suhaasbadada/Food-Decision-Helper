{
 "cells": [
  {
   "cell_type": "code",
   "execution_count": 1,
   "metadata": {},
   "outputs": [],
   "source": [
    "import numpy as np\n",
    "import pandas as pd"
   ]
  },
  {
   "cell_type": "code",
   "execution_count": 2,
   "metadata": {},
   "outputs": [],
   "source": [
    "data=pd.read_csv('zomato_bglr.csv')"
   ]
  },
  {
   "cell_type": "code",
   "execution_count": 3,
   "metadata": {},
   "outputs": [],
   "source": [
    "data.drop(['url','dish_liked','phone'],axis=1,inplace=True)"
   ]
  },
  {
   "cell_type": "code",
   "execution_count": 4,
   "metadata": {},
   "outputs": [],
   "source": [
    "data.duplicated().sum()\n",
    "data.drop_duplicates(inplace=True)"
   ]
  },
  {
   "cell_type": "code",
   "execution_count": 5,
   "metadata": {},
   "outputs": [],
   "source": [
    "data.dropna(how='any',inplace=True)"
   ]
  },
  {
   "cell_type": "code",
   "execution_count": 6,
   "metadata": {},
   "outputs": [],
   "source": [
    "data.rename(columns={'approx_cost(for two people)':'cost','listed_in(type)':'type','listed_in(city)':'city'},inplace=True)"
   ]
  },
  {
   "cell_type": "code",
   "execution_count": 7,
   "metadata": {},
   "outputs": [],
   "source": [
    "data['cost']=data['cost'].astype(str)\n",
    "data['cost']=data['cost'].apply(lambda x: x.replace(',',''))\n",
    "data['cost']=data['cost'].astype(float)"
   ]
  },
  {
   "cell_type": "code",
   "execution_count": 8,
   "metadata": {},
   "outputs": [],
   "source": [
    "data['cost']=data['cost'].astype(str)\n",
    "data['cost']=data['cost'].apply(lambda x: x.replace(',',''))\n",
    "data['cost']=data['cost'].astype(float)"
   ]
  },
  {
   "cell_type": "code",
   "execution_count": 9,
   "metadata": {},
   "outputs": [],
   "source": [
    "data = data.loc[data.rate !='NEW']\n",
    "data= data.loc[data.rate !='-'].reset_index(drop=True)\n",
    "data['rate']=data['rate'].apply(lambda x: x.replace('/5',''))\n",
    "data['rate']=data['rate'].astype(float)"
   ]
  },
  {
   "cell_type": "code",
   "execution_count": 10,
   "metadata": {},
   "outputs": [],
   "source": [
    "data.name = data.name.apply(lambda x:x.title())\n",
    "data.online_order.replace(('Yes','No'),(True, False),inplace=True)\n",
    "data.book_table.replace(('Yes','No'),(True, False),inplace=True)"
   ]
  },
  {
   "cell_type": "code",
   "execution_count": 11,
   "metadata": {},
   "outputs": [
    {
     "name": "stderr",
     "output_type": "stream",
     "text": [
      "<ipython-input-11-a0ff40cf8eaf>:4: SettingWithCopyWarning: \n",
      "A value is trying to be set on a copy of a slice from a DataFrame\n",
      "\n",
      "See the caveats in the documentation: https://pandas.pydata.org/pandas-docs/stable/user_guide/indexing.html#returning-a-view-versus-a-copy\n",
      "  data['Mean Rating'][data['name'] == restaurants[i]] = data['rate'][data['name'] == restaurants[i]].mean()\n"
     ]
    }
   ],
   "source": [
    "restaurants = list(data['name'].unique())\n",
    "data['Mean Rating'] = 0\n",
    "for i in range(len(restaurants)):\n",
    "    data['Mean Rating'][data['name'] == restaurants[i]] = data['rate'][data['name'] == restaurants[i]].mean()"
   ]
  },
  {
   "cell_type": "code",
   "execution_count": 12,
   "metadata": {},
   "outputs": [],
   "source": [
    "from sklearn.preprocessing import MinMaxScaler\n",
    "scaler = MinMaxScaler(feature_range = (1,5))\n",
    "data[['Mean Rating']] = scaler.fit_transform(data[['Mean Rating']]).round(2)"
   ]
  },
  {
   "cell_type": "code",
   "execution_count": 13,
   "metadata": {},
   "outputs": [],
   "source": [
    "data['reviews_list']=data['reviews_list'].str.lower()"
   ]
  },
  {
   "cell_type": "code",
   "execution_count": 14,
   "metadata": {},
   "outputs": [
    {
     "data": {
      "text/html": [
       "<div>\n",
       "<style scoped>\n",
       "    .dataframe tbody tr th:only-of-type {\n",
       "        vertical-align: middle;\n",
       "    }\n",
       "\n",
       "    .dataframe tbody tr th {\n",
       "        vertical-align: top;\n",
       "    }\n",
       "\n",
       "    .dataframe thead th {\n",
       "        text-align: right;\n",
       "    }\n",
       "</style>\n",
       "<table border=\"1\" class=\"dataframe\">\n",
       "  <thead>\n",
       "    <tr style=\"text-align: right;\">\n",
       "      <th></th>\n",
       "      <th>reviews_list</th>\n",
       "      <th>cuisines</th>\n",
       "    </tr>\n",
       "  </thead>\n",
       "  <tbody>\n",
       "    <tr>\n",
       "      <th>0</th>\n",
       "      <td>[('rated 4.0', 'rated\\n  a beautiful place to ...</td>\n",
       "      <td>North Indian, Mughlai, Chinese</td>\n",
       "    </tr>\n",
       "    <tr>\n",
       "      <th>1</th>\n",
       "      <td>[('rated 4.0', 'rated\\n  had been here for din...</td>\n",
       "      <td>Chinese, North Indian, Thai</td>\n",
       "    </tr>\n",
       "    <tr>\n",
       "      <th>2</th>\n",
       "      <td>[('rated 3.0', \"rated\\n  ambience is not that ...</td>\n",
       "      <td>Cafe, Mexican, Italian</td>\n",
       "    </tr>\n",
       "    <tr>\n",
       "      <th>3</th>\n",
       "      <td>[('rated 4.0', \"rated\\n  great food and proper...</td>\n",
       "      <td>South Indian, North Indian</td>\n",
       "    </tr>\n",
       "    <tr>\n",
       "      <th>4</th>\n",
       "      <td>[('rated 4.0', 'rated\\n  very good restaurant ...</td>\n",
       "      <td>North Indian, Rajasthani</td>\n",
       "    </tr>\n",
       "    <tr>\n",
       "      <th>...</th>\n",
       "      <td>...</td>\n",
       "      <td>...</td>\n",
       "    </tr>\n",
       "    <tr>\n",
       "      <th>41232</th>\n",
       "      <td>[('rated 4.0', 'rated\\n  ambience- big and spa...</td>\n",
       "      <td>North Indian, Continental</td>\n",
       "    </tr>\n",
       "    <tr>\n",
       "      <th>41233</th>\n",
       "      <td>[('rated 4.0', 'rated\\n  a fine place to chill...</td>\n",
       "      <td>Andhra, South Indian, Chinese, North Indian</td>\n",
       "    </tr>\n",
       "    <tr>\n",
       "      <th>41234</th>\n",
       "      <td>[('rated 5.0', \"rated\\n  food and service are ...</td>\n",
       "      <td>Continental</td>\n",
       "    </tr>\n",
       "    <tr>\n",
       "      <th>41235</th>\n",
       "      <td>[('rated 4.0', 'rated\\n  nice and friendly pla...</td>\n",
       "      <td>Finger Food</td>\n",
       "    </tr>\n",
       "    <tr>\n",
       "      <th>41236</th>\n",
       "      <td>[('rated 5.0', 'rated\\n  great ambience , look...</td>\n",
       "      <td>Finger Food, North Indian, Continental</td>\n",
       "    </tr>\n",
       "  </tbody>\n",
       "</table>\n",
       "<p>41237 rows × 2 columns</p>\n",
       "</div>"
      ],
      "text/plain": [
       "                                            reviews_list  \\\n",
       "0      [('rated 4.0', 'rated\\n  a beautiful place to ...   \n",
       "1      [('rated 4.0', 'rated\\n  had been here for din...   \n",
       "2      [('rated 3.0', \"rated\\n  ambience is not that ...   \n",
       "3      [('rated 4.0', \"rated\\n  great food and proper...   \n",
       "4      [('rated 4.0', 'rated\\n  very good restaurant ...   \n",
       "...                                                  ...   \n",
       "41232  [('rated 4.0', 'rated\\n  ambience- big and spa...   \n",
       "41233  [('rated 4.0', 'rated\\n  a fine place to chill...   \n",
       "41234  [('rated 5.0', \"rated\\n  food and service are ...   \n",
       "41235  [('rated 4.0', 'rated\\n  nice and friendly pla...   \n",
       "41236  [('rated 5.0', 'rated\\n  great ambience , look...   \n",
       "\n",
       "                                          cuisines  \n",
       "0                   North Indian, Mughlai, Chinese  \n",
       "1                      Chinese, North Indian, Thai  \n",
       "2                           Cafe, Mexican, Italian  \n",
       "3                       South Indian, North Indian  \n",
       "4                         North Indian, Rajasthani  \n",
       "...                                            ...  \n",
       "41232                    North Indian, Continental  \n",
       "41233  Andhra, South Indian, Chinese, North Indian  \n",
       "41234                                  Continental  \n",
       "41235                                  Finger Food  \n",
       "41236       Finger Food, North Indian, Continental  \n",
       "\n",
       "[41237 rows x 2 columns]"
      ]
     },
     "execution_count": 14,
     "metadata": {},
     "output_type": "execute_result"
    }
   ],
   "source": [
    " data[['reviews_list','cuisines']]"
   ]
  },
  {
   "cell_type": "code",
   "execution_count": 15,
   "metadata": {},
   "outputs": [],
   "source": [
    "import string\n",
    "remove = string.punctuation\n",
    "def remove_punctuation(text):\n",
    "    return text.translate(str.maketrans('', '', remove))\n",
    "\n",
    "data[\"reviews_list\"] = data[\"reviews_list\"].apply(lambda text: remove_punctuation(text))"
   ]
  },
  {
   "cell_type": "code",
   "execution_count": 16,
   "metadata": {},
   "outputs": [],
   "source": [
    "from nltk.corpus import stopwords\n",
    "STOPWORDS = set(stopwords.words('english'))\n",
    "def remove_stopwords(text):\n",
    "    return \" \".join([word for word in str(text).split() if word not in STOPWORDS])\n",
    "\n",
    "data[\"reviews_list\"] = data[\"reviews_list\"].apply(lambda text: remove_stopwords(text))"
   ]
  },
  {
   "cell_type": "code",
   "execution_count": 18,
   "metadata": {},
   "outputs": [],
   "source": [
    "import re\n",
    "def remove_urls(text):\n",
    "    url_pattern = re.compile(r'https?://\\S+|www\\.\\S+')\n",
    "    return url_pattern.sub(r'', text)\n",
    "\n",
    "data[\"reviews_list\"] = data[\"reviews_list\"].apply(lambda text: remove_urls(text))"
   ]
  },
  {
   "cell_type": "code",
   "execution_count": 42,
   "metadata": {},
   "outputs": [],
   "source": [
    "data.drop('menu_item',axis=1,inplace=True)"
   ]
  },
  {
   "cell_type": "markdown",
   "metadata": {},
   "source": [
    "data.to_csv('data_cleaned.csv')"
   ]
  },
  {
   "cell_type": "code",
   "execution_count": 19,
   "metadata": {},
   "outputs": [],
   "source": [
    "df_percent=data.sample(frac=0.1)"
   ]
  },
  {
   "cell_type": "code",
   "execution_count": 20,
   "metadata": {},
   "outputs": [],
   "source": [
    "df_percent.set_index('name', inplace=True)"
   ]
  },
  {
   "cell_type": "code",
   "execution_count": 21,
   "metadata": {},
   "outputs": [],
   "source": [
    "indices = pd.Series(df_percent.index)"
   ]
  },
  {
   "cell_type": "code",
   "execution_count": 23,
   "metadata": {},
   "outputs": [],
   "source": [
    "from sklearn.feature_extraction.text import CountVectorizer\n",
    "from sklearn.feature_extraction.text import TfidfVectorizer\n",
    "tfidf = TfidfVectorizer(analyzer='word', ngram_range=(1, 2), min_df=0, stop_words='english')\n",
    "tfidf_matrix = tfidf.fit_transform(df_percent['reviews_list'])"
   ]
  },
  {
   "cell_type": "code",
   "execution_count": 24,
   "metadata": {},
   "outputs": [],
   "source": [
    "from sklearn.metrics.pairwise import linear_kernel\n",
    "cosine_similarities = linear_kernel(tfidf_matrix, tfidf_matrix)"
   ]
  },
  {
   "cell_type": "code",
   "execution_count": 30,
   "metadata": {},
   "outputs": [],
   "source": [
    "def recommend(name, cosine_similarities = cosine_similarities):\n",
    "\n",
    "    recommend_restaurant = []\n",
    "\n",
    "    idx = indices[indices == name].index[0]\n",
    "\n",
    "    score_series = pd.Series(cosine_similarities[idx]).sort_values(ascending=False)\n",
    "\n",
    "    top30_indexes = list(score_series.iloc[0:31].index)\n",
    "\n",
    "    for each in top30_indexes:\n",
    "        recommend_restaurant.append(list(df_percent.index)[each])\n",
    "\n",
    "    df_new = pd.DataFrame(columns=['cuisines', 'Mean Rating', 'cost'])\n",
    "    \n",
    "    for each in recommend_restaurant:\n",
    "        df_new = df_new.append(pd.DataFrame(df_percent[['cuisines','Mean Rating', 'cost']][df_percent.index == each].sample()))\n",
    "    \n",
    "    df_new = df_new.drop_duplicates(subset=['cuisines','Mean Rating', 'cost'], keep=False)\n",
    "    df_new = df_new.sort_values(by='Mean Rating', ascending=False).head(10)\n",
    "    \n",
    "    print('TOP %s RESTAURANTS LIKE %s WITH SIMILAR REVIEWS: ' % (str(len(df_new)), name))\n",
    "    \n",
    "    return df_new\n"
   ]
  },
  {
   "cell_type": "code",
   "execution_count": 31,
   "metadata": {},
   "outputs": [
    {
     "name": "stdout",
     "output_type": "stream",
     "text": [
      "TOP 10 RESTAURANTS LIKE Bangalore Masala House WITH SIMILAR REVIEWS: \n"
     ]
    },
    {
     "data": {
      "text/html": [
       "<div>\n",
       "<style scoped>\n",
       "    .dataframe tbody tr th:only-of-type {\n",
       "        vertical-align: middle;\n",
       "    }\n",
       "\n",
       "    .dataframe tbody tr th {\n",
       "        vertical-align: top;\n",
       "    }\n",
       "\n",
       "    .dataframe thead th {\n",
       "        text-align: right;\n",
       "    }\n",
       "</style>\n",
       "<table border=\"1\" class=\"dataframe\">\n",
       "  <thead>\n",
       "    <tr style=\"text-align: right;\">\n",
       "      <th></th>\n",
       "      <th>cuisines</th>\n",
       "      <th>Mean Rating</th>\n",
       "      <th>cost</th>\n",
       "    </tr>\n",
       "  </thead>\n",
       "  <tbody>\n",
       "    <tr>\n",
       "      <th>The Pizza Bakery</th>\n",
       "      <td>Italian, Pizza, Beverages</td>\n",
       "      <td>4.87</td>\n",
       "      <td>1200.0</td>\n",
       "    </tr>\n",
       "    <tr>\n",
       "      <th>House Of Commons</th>\n",
       "      <td>Continental, Asian, North Indian</td>\n",
       "      <td>4.77</td>\n",
       "      <td>1000.0</td>\n",
       "    </tr>\n",
       "    <tr>\n",
       "      <th>Hammered</th>\n",
       "      <td>North Indian, South Indian, Continental, Asian</td>\n",
       "      <td>4.65</td>\n",
       "      <td>1200.0</td>\n",
       "    </tr>\n",
       "    <tr>\n",
       "      <th>The Reservoire</th>\n",
       "      <td>Continental, North Indian, Chinese, American</td>\n",
       "      <td>4.56</td>\n",
       "      <td>1300.0</td>\n",
       "    </tr>\n",
       "    <tr>\n",
       "      <th>Simon Says Brew Works</th>\n",
       "      <td>Continental, American, Italian, Modern Indian,...</td>\n",
       "      <td>4.48</td>\n",
       "      <td>1400.0</td>\n",
       "    </tr>\n",
       "    <tr>\n",
       "      <th>Dyu Art Cafe</th>\n",
       "      <td>Cafe, Italian, Fast Food</td>\n",
       "      <td>4.48</td>\n",
       "      <td>800.0</td>\n",
       "    </tr>\n",
       "    <tr>\n",
       "      <th>Float</th>\n",
       "      <td>North Indian, Japanese</td>\n",
       "      <td>4.35</td>\n",
       "      <td>1500.0</td>\n",
       "    </tr>\n",
       "    <tr>\n",
       "      <th>Glen'S Bakehouse</th>\n",
       "      <td>Bakery, Cafe, Italian, Desserts</td>\n",
       "      <td>4.27</td>\n",
       "      <td>600.0</td>\n",
       "    </tr>\n",
       "    <tr>\n",
       "      <th>Bangalore Masala House</th>\n",
       "      <td>Cafe, Continental, Fast Food, Pizza, Italian, ...</td>\n",
       "      <td>4.04</td>\n",
       "      <td>500.0</td>\n",
       "    </tr>\n",
       "    <tr>\n",
       "      <th>Attic Lounge</th>\n",
       "      <td>Cafe</td>\n",
       "      <td>3.84</td>\n",
       "      <td>700.0</td>\n",
       "    </tr>\n",
       "  </tbody>\n",
       "</table>\n",
       "</div>"
      ],
      "text/plain": [
       "                                                                 cuisines  \\\n",
       "The Pizza Bakery                                Italian, Pizza, Beverages   \n",
       "House Of Commons                         Continental, Asian, North Indian   \n",
       "Hammered                   North Indian, South Indian, Continental, Asian   \n",
       "The Reservoire               Continental, North Indian, Chinese, American   \n",
       "Simon Says Brew Works   Continental, American, Italian, Modern Indian,...   \n",
       "Dyu Art Cafe                                     Cafe, Italian, Fast Food   \n",
       "Float                                              North Indian, Japanese   \n",
       "Glen'S Bakehouse                          Bakery, Cafe, Italian, Desserts   \n",
       "Bangalore Masala House  Cafe, Continental, Fast Food, Pizza, Italian, ...   \n",
       "Attic Lounge                                                         Cafe   \n",
       "\n",
       "                        Mean Rating    cost  \n",
       "The Pizza Bakery               4.87  1200.0  \n",
       "House Of Commons               4.77  1000.0  \n",
       "Hammered                       4.65  1200.0  \n",
       "The Reservoire                 4.56  1300.0  \n",
       "Simon Says Brew Works          4.48  1400.0  \n",
       "Dyu Art Cafe                   4.48   800.0  \n",
       "Float                          4.35  1500.0  \n",
       "Glen'S Bakehouse               4.27   600.0  \n",
       "Bangalore Masala House         4.04   500.0  \n",
       "Attic Lounge                   3.84   700.0  "
      ]
     },
     "execution_count": 31,
     "metadata": {},
     "output_type": "execute_result"
    }
   ],
   "source": [
    "recommend('Bangalore Masala House')"
   ]
  },
  {
   "cell_type": "code",
   "execution_count": 34,
   "metadata": {},
   "outputs": [
    {
     "name": "stdout",
     "output_type": "stream",
     "text": [
      "TOP 10 RESTAURANTS LIKE Burrito Boys WITH SIMILAR REVIEWS: \n"
     ]
    },
    {
     "data": {
      "text/html": [
       "<div>\n",
       "<style scoped>\n",
       "    .dataframe tbody tr th:only-of-type {\n",
       "        vertical-align: middle;\n",
       "    }\n",
       "\n",
       "    .dataframe tbody tr th {\n",
       "        vertical-align: top;\n",
       "    }\n",
       "\n",
       "    .dataframe thead th {\n",
       "        text-align: right;\n",
       "    }\n",
       "</style>\n",
       "<table border=\"1\" class=\"dataframe\">\n",
       "  <thead>\n",
       "    <tr style=\"text-align: right;\">\n",
       "      <th></th>\n",
       "      <th>cuisines</th>\n",
       "      <th>Mean Rating</th>\n",
       "      <th>cost</th>\n",
       "    </tr>\n",
       "  </thead>\n",
       "  <tbody>\n",
       "    <tr>\n",
       "      <th>Mexican Burrito</th>\n",
       "      <td>Mexican, Fast Food</td>\n",
       "      <td>3.84</td>\n",
       "      <td>450.0</td>\n",
       "    </tr>\n",
       "    <tr>\n",
       "      <th>Eggzotic</th>\n",
       "      <td>North Indian, Chinese, Biryani, Fast Food</td>\n",
       "      <td>3.77</td>\n",
       "      <td>500.0</td>\n",
       "    </tr>\n",
       "    <tr>\n",
       "      <th>Sri Banashankari Donne Biriyani</th>\n",
       "      <td>Biryani</td>\n",
       "      <td>3.55</td>\n",
       "      <td>150.0</td>\n",
       "    </tr>\n",
       "    <tr>\n",
       "      <th>Agarwal Food Service</th>\n",
       "      <td>North Indian, Chinese, Biryani</td>\n",
       "      <td>3.39</td>\n",
       "      <td>400.0</td>\n",
       "    </tr>\n",
       "    <tr>\n",
       "      <th>Sri Krishna Sagar</th>\n",
       "      <td>South Indian, North Indian, Chinese, Street Fo...</td>\n",
       "      <td>3.26</td>\n",
       "      <td>400.0</td>\n",
       "    </tr>\n",
       "    <tr>\n",
       "      <th>Red Chilliez</th>\n",
       "      <td>North Indian, Chinese, Seafood, Mangalorean</td>\n",
       "      <td>3.26</td>\n",
       "      <td>650.0</td>\n",
       "    </tr>\n",
       "    <tr>\n",
       "      <th>Nammura Donne Biriyani</th>\n",
       "      <td>Mughlai, Biryani</td>\n",
       "      <td>3.20</td>\n",
       "      <td>400.0</td>\n",
       "    </tr>\n",
       "    <tr>\n",
       "      <th>Pot Biryani</th>\n",
       "      <td>North Indian, Chinese, Biryani, Seafood</td>\n",
       "      <td>3.19</td>\n",
       "      <td>600.0</td>\n",
       "    </tr>\n",
       "    <tr>\n",
       "      <th>Sri Gurudev Darshini</th>\n",
       "      <td>South Indian</td>\n",
       "      <td>3.17</td>\n",
       "      <td>150.0</td>\n",
       "    </tr>\n",
       "    <tr>\n",
       "      <th>Just One More</th>\n",
       "      <td>South Indian, Street Food</td>\n",
       "      <td>3.06</td>\n",
       "      <td>200.0</td>\n",
       "    </tr>\n",
       "  </tbody>\n",
       "</table>\n",
       "</div>"
      ],
      "text/plain": [
       "                                                                          cuisines  \\\n",
       "Mexican Burrito                                                 Mexican, Fast Food   \n",
       "Eggzotic                                 North Indian, Chinese, Biryani, Fast Food   \n",
       "Sri Banashankari Donne Biriyani                                            Biryani   \n",
       "Agarwal Food Service                                North Indian, Chinese, Biryani   \n",
       "Sri Krishna Sagar                South Indian, North Indian, Chinese, Street Fo...   \n",
       "Red Chilliez                           North Indian, Chinese, Seafood, Mangalorean   \n",
       "Nammura Donne Biriyani                                            Mughlai, Biryani   \n",
       "Pot Biryani                                North Indian, Chinese, Biryani, Seafood   \n",
       "Sri Gurudev Darshini                                                  South Indian   \n",
       "Just One More                                            South Indian, Street Food   \n",
       "\n",
       "                                 Mean Rating   cost  \n",
       "Mexican Burrito                         3.84  450.0  \n",
       "Eggzotic                                3.77  500.0  \n",
       "Sri Banashankari Donne Biriyani         3.55  150.0  \n",
       "Agarwal Food Service                    3.39  400.0  \n",
       "Sri Krishna Sagar                       3.26  400.0  \n",
       "Red Chilliez                            3.26  650.0  \n",
       "Nammura Donne Biriyani                  3.20  400.0  \n",
       "Pot Biryani                             3.19  600.0  \n",
       "Sri Gurudev Darshini                    3.17  150.0  \n",
       "Just One More                           3.06  200.0  "
      ]
     },
     "execution_count": 34,
     "metadata": {},
     "output_type": "execute_result"
    }
   ],
   "source": [
    "recommend('Burrito Boys')"
   ]
  },
  {
   "cell_type": "code",
   "execution_count": 36,
   "metadata": {},
   "outputs": [
    {
     "name": "stdout",
     "output_type": "stream",
     "text": [
      "TOP 10 RESTAURANTS LIKE Kullukki WITH SIMILAR REVIEWS: \n"
     ]
    },
    {
     "data": {
      "text/html": [
       "<div>\n",
       "<style scoped>\n",
       "    .dataframe tbody tr th:only-of-type {\n",
       "        vertical-align: middle;\n",
       "    }\n",
       "\n",
       "    .dataframe tbody tr th {\n",
       "        vertical-align: top;\n",
       "    }\n",
       "\n",
       "    .dataframe thead th {\n",
       "        text-align: right;\n",
       "    }\n",
       "</style>\n",
       "<table border=\"1\" class=\"dataframe\">\n",
       "  <thead>\n",
       "    <tr style=\"text-align: right;\">\n",
       "      <th></th>\n",
       "      <th>cuisines</th>\n",
       "      <th>Mean Rating</th>\n",
       "      <th>cost</th>\n",
       "    </tr>\n",
       "  </thead>\n",
       "  <tbody>\n",
       "    <tr>\n",
       "      <th>Belgian Waffle Factory</th>\n",
       "      <td>Desserts</td>\n",
       "      <td>4.93</td>\n",
       "      <td>400.0</td>\n",
       "    </tr>\n",
       "    <tr>\n",
       "      <th>Eggzotic</th>\n",
       "      <td>North Indian, Chinese, Biryani, Fast Food</td>\n",
       "      <td>3.77</td>\n",
       "      <td>500.0</td>\n",
       "    </tr>\n",
       "    <tr>\n",
       "      <th>Madeena Hotel</th>\n",
       "      <td>North Indian, Mughlai, Biryani</td>\n",
       "      <td>3.75</td>\n",
       "      <td>400.0</td>\n",
       "    </tr>\n",
       "    <tr>\n",
       "      <th>The Hidden Cafe</th>\n",
       "      <td>North Indian, Fast Food</td>\n",
       "      <td>3.71</td>\n",
       "      <td>350.0</td>\n",
       "    </tr>\n",
       "    <tr>\n",
       "      <th>Mug N Bean</th>\n",
       "      <td>Cafe, Continental, Italian, Burger</td>\n",
       "      <td>3.71</td>\n",
       "      <td>400.0</td>\n",
       "    </tr>\n",
       "    <tr>\n",
       "      <th>Cinnamon</th>\n",
       "      <td>North Indian, Chinese, Biryani</td>\n",
       "      <td>3.62</td>\n",
       "      <td>550.0</td>\n",
       "    </tr>\n",
       "    <tr>\n",
       "      <th>Sri Banashankari Donne Biriyani</th>\n",
       "      <td>Biryani</td>\n",
       "      <td>3.55</td>\n",
       "      <td>150.0</td>\n",
       "    </tr>\n",
       "    <tr>\n",
       "      <th>Four Seasons Fast Food Center</th>\n",
       "      <td>North Indian, Chinese, Biryani</td>\n",
       "      <td>3.49</td>\n",
       "      <td>400.0</td>\n",
       "    </tr>\n",
       "    <tr>\n",
       "      <th>Donne Biriyani Angadi Mane</th>\n",
       "      <td>South Indian, Biryani</td>\n",
       "      <td>3.47</td>\n",
       "      <td>250.0</td>\n",
       "    </tr>\n",
       "    <tr>\n",
       "      <th>Nightfork</th>\n",
       "      <td>Chinese, Biryani, Pizza, Italian, North Indian</td>\n",
       "      <td>3.45</td>\n",
       "      <td>500.0</td>\n",
       "    </tr>\n",
       "  </tbody>\n",
       "</table>\n",
       "</div>"
      ],
      "text/plain": [
       "                                                                       cuisines  \\\n",
       "Belgian Waffle Factory                                                 Desserts   \n",
       "Eggzotic                              North Indian, Chinese, Biryani, Fast Food   \n",
       "Madeena Hotel                                    North Indian, Mughlai, Biryani   \n",
       "The Hidden Cafe                                         North Indian, Fast Food   \n",
       "Mug N Bean                                   Cafe, Continental, Italian, Burger   \n",
       "Cinnamon                                         North Indian, Chinese, Biryani   \n",
       "Sri Banashankari Donne Biriyani                                         Biryani   \n",
       "Four Seasons Fast Food Center                    North Indian, Chinese, Biryani   \n",
       "Donne Biriyani Angadi Mane                                South Indian, Biryani   \n",
       "Nightfork                        Chinese, Biryani, Pizza, Italian, North Indian   \n",
       "\n",
       "                                 Mean Rating   cost  \n",
       "Belgian Waffle Factory                  4.93  400.0  \n",
       "Eggzotic                                3.77  500.0  \n",
       "Madeena Hotel                           3.75  400.0  \n",
       "The Hidden Cafe                         3.71  350.0  \n",
       "Mug N Bean                              3.71  400.0  \n",
       "Cinnamon                                3.62  550.0  \n",
       "Sri Banashankari Donne Biriyani         3.55  150.0  \n",
       "Four Seasons Fast Food Center           3.49  400.0  \n",
       "Donne Biriyani Angadi Mane              3.47  250.0  \n",
       "Nightfork                               3.45  500.0  "
      ]
     },
     "execution_count": 36,
     "metadata": {},
     "output_type": "execute_result"
    }
   ],
   "source": [
    "recommend('Kullukki')"
   ]
  },
  {
   "cell_type": "code",
   "execution_count": 1,
   "metadata": {},
   "outputs": [
    {
     "ename": "NameError",
     "evalue": "name 'data' is not defined",
     "output_type": "error",
     "traceback": [
      "\u001b[0;31m---------------------------------------------------------------------------\u001b[0m",
      "\u001b[0;31mNameError\u001b[0m                                 Traceback (most recent call last)",
      "\u001b[0;32m<ipython-input-1-c5d84736ba45>\u001b[0m in \u001b[0;36m<module>\u001b[0;34m\u001b[0m\n\u001b[0;32m----> 1\u001b[0;31m \u001b[0mdata\u001b[0m\u001b[0;34m\u001b[0m\u001b[0;34m\u001b[0m\u001b[0m\n\u001b[0m",
      "\u001b[0;31mNameError\u001b[0m: name 'data' is not defined"
     ]
    }
   ],
   "source": []
  },
  {
   "cell_type": "markdown",
   "metadata": {},
   "source": [
    "from numpy import asarray\n",
    "from numpy import save\n",
    "cosine_similarities=asarray(cosine_similarities)\n",
    "save('cos_sim.npy',cosine_similarities)\n",
    "df_percent.to_csv('df_per.csv')\n",
    "indices.to_csv('ind.csv')"
   ]
  }
 ],
 "metadata": {
  "kernelspec": {
   "display_name": "Python 3",
   "language": "python",
   "name": "python3"
  },
  "language_info": {
   "codemirror_mode": {
    "name": "ipython",
    "version": 3
   },
   "file_extension": ".py",
   "mimetype": "text/x-python",
   "name": "python",
   "nbconvert_exporter": "python",
   "pygments_lexer": "ipython3",
   "version": "3.8.3"
  }
 },
 "nbformat": 4,
 "nbformat_minor": 4
}
