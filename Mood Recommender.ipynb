{
 "cells": [
  {
   "cell_type": "code",
   "execution_count": 1,
   "metadata": {},
   "outputs": [],
   "source": [
    "import pandas as pd\n",
    "from nltk.corpus import stopwords\n",
    "from nltk.stem import WordNetLemmatizer"
   ]
  },
  {
   "cell_type": "code",
   "execution_count": 2,
   "metadata": {},
   "outputs": [],
   "source": [
    "choices=pd.read_csv('food_choices.csv')"
   ]
  },
  {
   "cell_type": "code",
   "execution_count": 3,
   "metadata": {},
   "outputs": [
    {
     "data": {
      "text/html": [
       "<div>\n",
       "<style scoped>\n",
       "    .dataframe tbody tr th:only-of-type {\n",
       "        vertical-align: middle;\n",
       "    }\n",
       "\n",
       "    .dataframe tbody tr th {\n",
       "        vertical-align: top;\n",
       "    }\n",
       "\n",
       "    .dataframe thead th {\n",
       "        text-align: right;\n",
       "    }\n",
       "</style>\n",
       "<table border=\"1\" class=\"dataframe\">\n",
       "  <thead>\n",
       "    <tr style=\"text-align: right;\">\n",
       "      <th></th>\n",
       "      <th>comfort_food_reasons</th>\n",
       "      <th>comfort_food</th>\n",
       "    </tr>\n",
       "  </thead>\n",
       "  <tbody>\n",
       "    <tr>\n",
       "      <th>0</th>\n",
       "      <td>we dont have comfort</td>\n",
       "      <td>none</td>\n",
       "    </tr>\n",
       "    <tr>\n",
       "      <th>1</th>\n",
       "      <td>Stress, bored, anger</td>\n",
       "      <td>chocolate, chips, ice cream</td>\n",
       "    </tr>\n",
       "    <tr>\n",
       "      <th>2</th>\n",
       "      <td>stress, sadness</td>\n",
       "      <td>frozen yogurt, pizza, fast food</td>\n",
       "    </tr>\n",
       "    <tr>\n",
       "      <th>3</th>\n",
       "      <td>Boredom</td>\n",
       "      <td>Pizza, Mac and cheese, ice cream</td>\n",
       "    </tr>\n",
       "    <tr>\n",
       "      <th>4</th>\n",
       "      <td>Stress, boredom, cravings</td>\n",
       "      <td>Ice cream, chocolate, chips</td>\n",
       "    </tr>\n",
       "    <tr>\n",
       "      <th>...</th>\n",
       "      <td>...</td>\n",
       "      <td>...</td>\n",
       "    </tr>\n",
       "    <tr>\n",
       "      <th>120</th>\n",
       "      <td>boredom and sadness</td>\n",
       "      <td>wine. mac and cheese, pizza, ice cream</td>\n",
       "    </tr>\n",
       "    <tr>\n",
       "      <th>121</th>\n",
       "      <td>Loneliness / Homesick / Sadness</td>\n",
       "      <td>Pizza / Wings / Cheesecake</td>\n",
       "    </tr>\n",
       "    <tr>\n",
       "      <th>122</th>\n",
       "      <td>sadness</td>\n",
       "      <td>rice, potato, seaweed soup</td>\n",
       "    </tr>\n",
       "    <tr>\n",
       "      <th>123</th>\n",
       "      <td>happiness, they are some of my favorite foods</td>\n",
       "      <td>Mac n Cheese, Lasagna, Pizza</td>\n",
       "    </tr>\n",
       "    <tr>\n",
       "      <th>124</th>\n",
       "      <td>hormones, Premenstrual syndrome.</td>\n",
       "      <td>Chocolates, pizza, and Ritz.</td>\n",
       "    </tr>\n",
       "  </tbody>\n",
       "</table>\n",
       "<p>125 rows × 2 columns</p>\n",
       "</div>"
      ],
      "text/plain": [
       "                              comfort_food_reasons  \\\n",
       "0                            we dont have comfort    \n",
       "1                             Stress, bored, anger   \n",
       "2                                  stress, sadness   \n",
       "3                                          Boredom   \n",
       "4                       Stress, boredom, cravings    \n",
       "..                                             ...   \n",
       "120                           boredom and sadness    \n",
       "121                Loneliness / Homesick / Sadness   \n",
       "122                                        sadness   \n",
       "123  happiness, they are some of my favorite foods   \n",
       "124               hormones, Premenstrual syndrome.   \n",
       "\n",
       "                                comfort_food  \n",
       "0                                       none  \n",
       "1                chocolate, chips, ice cream  \n",
       "2            frozen yogurt, pizza, fast food  \n",
       "3           Pizza, Mac and cheese, ice cream  \n",
       "4               Ice cream, chocolate, chips   \n",
       "..                                       ...  \n",
       "120  wine. mac and cheese, pizza, ice cream   \n",
       "121               Pizza / Wings / Cheesecake  \n",
       "122               rice, potato, seaweed soup  \n",
       "123             Mac n Cheese, Lasagna, Pizza  \n",
       "124             Chocolates, pizza, and Ritz.  \n",
       "\n",
       "[125 rows x 2 columns]"
      ]
     },
     "execution_count": 3,
     "metadata": {},
     "output_type": "execute_result"
    }
   ],
   "source": [
    "choices[['comfort_food_reasons','comfort_food']]"
   ]
  },
  {
   "cell_type": "code",
   "execution_count": 4,
   "metadata": {},
   "outputs": [],
   "source": [
    "stop = set(stopwords.words('english'))\n",
    "def recommend_me(mood):\n",
    "    lemmatizer = WordNetLemmatizer()\n",
    "    foodcount = {}\n",
    "    for i in range(124):\n",
    "        temp = [temps.strip().replace('.','').replace(',','').lower() for temps in str(choices[\"comfort_food_reasons\"][i]).split(' ') if temps.strip() not in stop ]\n",
    "        if mood in temp:\n",
    "            foodtemp = [lemmatizer.lemmatize(temps.strip().replace('.','').replace(',','').lower()) for temps in str(choices[\"comfort_food\"][i]).split(',') if temps.strip() not in stop ]\n",
    "            for a in foodtemp:\n",
    "                if a not in foodcount.keys():\n",
    "                    foodcount[a] = 1 \n",
    "                else:\n",
    "                    foodcount[a] += 1\n",
    "    sorted_food = []\n",
    "    sorted_food = sorted(foodcount, key=foodcount.get, reverse=True)\n",
    "    return sorted_food"
   ]
  },
  {
   "cell_type": "code",
   "execution_count": null,
   "metadata": {},
   "outputs": [],
   "source": [
    "# sad sadness happy happiness lonely loneliness bored boredom comfort stress stressed frustration  anger"
   ]
  },
  {
   "cell_type": "markdown",
   "metadata": {},
   "source": [
    "SAD\n",
    "HAPPY\n",
    "ANGER\n",
    "LONELY\n",
    "BORED\n",
    "COMFORT\n",
    "STRESS\n",
    "FRUSTRATION\n",
    "\n",
    "S H A L B C S F"
   ]
  }
 ],
 "metadata": {
  "kernelspec": {
   "display_name": "Python 3",
   "language": "python",
   "name": "python3"
  },
  "language_info": {
   "codemirror_mode": {
    "name": "ipython",
    "version": 3
   },
   "file_extension": ".py",
   "mimetype": "text/x-python",
   "name": "python",
   "nbconvert_exporter": "python",
   "pygments_lexer": "ipython3",
   "version": "3.8.3"
  }
 },
 "nbformat": 4,
 "nbformat_minor": 4
}
